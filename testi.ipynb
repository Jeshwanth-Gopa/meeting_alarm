{
 "cells": [
  {
   "cell_type": "code",
   "execution_count": 1,
   "id": "30193d54",
   "metadata": {},
   "outputs": [],
   "source": [
    "import win32com.client\n",
    "import datetime\n",
    "import time\n",
    "import psutil\n",
    "import logging\n",
    "from playsound import playsound"
   ]
  },
  {
   "cell_type": "code",
   "execution_count": 2,
   "id": "4dcd3a25",
   "metadata": {},
   "outputs": [],
   "source": [
    "# ----- Configuration Section -----\n",
    "CHECK_INTERVAL = 30         # Interval (in seconds) between each check.\n",
    "ALERT_BEFORE_MINUTES = 2      # Trigger alert if a meeting starts within next 2 minutes.\n",
    "RINGTONE_FILE = \"ring1.wav\"  # Path to your custom ringtone sound file.\n",
    "# ----------------------------------"
   ]
  },
  {
   "cell_type": "code",
   "execution_count": 3,
   "id": "4d2afa60",
   "metadata": {},
   "outputs": [],
   "source": [
    "\n",
    "# Set up logging for output details.\n",
    "logging.basicConfig(level=logging.INFO, format='%(asctime)s - %(levelname)s - %(message)s')\n"
   ]
  },
  {
   "cell_type": "code",
   "execution_count": 4,
   "id": "7fe40c23",
   "metadata": {},
   "outputs": [],
   "source": [
    "def is_teams_running():\n",
    "    \"\"\"\n",
    "    Check if Microsoft Teams is running by scanning the processes.\n",
    "    Returns True if the Teams process is found.\n",
    "    \"\"\"\n",
    "    for proc in psutil.process_iter(['name']):\n",
    "        try:\n",
    "            if 'Teams.exe' in proc.info['name']:\n",
    "                return True\n",
    "        except (psutil.NoSuchProcess, psutil.AccessDenied, psutil.ZombieProcess):\n",
    "            pass\n",
    "    return False"
   ]
  },
  {
   "cell_type": "code",
   "execution_count": 5,
   "id": "f9ceb786",
   "metadata": {},
   "outputs": [],
   "source": [
    "def get_upcoming_meetings():\n",
    "    \"\"\"\n",
    "    Reads the Outlook calendar for the current day and finds all meetings\n",
    "    that will start within the next ALERT_BEFORE_MINUTES.\n",
    "    Returns a list of meeting appointment objects.\n",
    "    \"\"\"\n",
    "    upcoming_meetings = []\n",
    "    try:\n",
    "        # Connect to Outlook via COM.\n",
    "        outlook = win32com.client.Dispatch(\"Outlook.Application\")\n",
    "        namespace = outlook.GetNamespace(\"MAPI\")\n",
    "        calendar = namespace.GetDefaultFolder(9)  # 9 = Calendar folder in Outlook.\n",
    "        \n",
    "        # Define the time range for today's appointments.\n",
    "        today = datetime.date.today()\n",
    "        start = datetime.datetime.combine(today, datetime.time.min)\n",
    "        end = datetime.datetime.combine(today, datetime.time.max)\n",
    "        \n",
    "        # Get items, include recurring events, and sort by start time.\n",
    "        items = calendar.Items\n",
    "        items.IncludeRecurrences = True\n",
    "        items.Sort(\"[Start]\")\n",
    "        \n",
    "        # Create a restriction to only get appointments today.\n",
    "        restriction = \"[Start] >= '\" + start.strftime(\"%m/%d/%Y %H:%M %p\") + \"' AND [End] <= '\" + end.strftime(\"%m/%d/%Y %H:%M %p\") + \"'\"\n",
    "        restricted_items = items.Restrict(restriction)\n",
    "        \n",
    "        now = datetime.datetime.now()\n",
    "        for appointment in restricted_items:\n",
    "            meeting_start = appointment.Start\n",
    "            # If meeting_start is a string, convert it (usually it’s a datetime)\n",
    "            if isinstance(meeting_start, str):\n",
    "                meeting_start = datetime.datetime.strptime(meeting_start, \"%m/%d/%Y %H:%M %p\")\n",
    "            \n",
    "            # Check if the meeting will start soon.\n",
    "            if 0 <= (meeting_start - now).total_seconds() <= ALERT_BEFORE_MINUTES * 60:\n",
    "                upcoming_meetings.append(appointment)\n",
    "    except Exception as e:\n",
    "        logging.error(\"Error reading Outlook calendar: \" + str(e))\n",
    "    return upcoming_meetings"
   ]
  },
  {
   "cell_type": "code",
   "execution_count": 6,
   "id": "166eff36",
   "metadata": {},
   "outputs": [],
   "source": [
    "def main_loop():\n",
    "    \"\"\"\n",
    "    Main loop that continuously checks for upcoming meetings.\n",
    "    Plays the ringtone if a meeting is about to start and Teams is running.\n",
    "    \"\"\"\n",
    "    notified = set()  # To avoid duplicate notifications for the same meeting.\n",
    "    logging.info(\"Starting Teams Meeting Notification Agent...\")\n",
    "    while True:\n",
    "        now = datetime.datetime.now()\n",
    "        upcoming = get_upcoming_meetings()\n",
    "        if upcoming:\n",
    "            logging.info(f\"Found {len(upcoming)} meeting(s) starting soon.\")\n",
    "            if is_teams_running():\n",
    "                for meeting in upcoming:\n",
    "                    meeting_id = meeting.EntryID  # Unique identifier for each meeting.\n",
    "                    if meeting_id not in notified:\n",
    "                        logging.info(f\"Triggering alert for meeting: '{meeting.Subject}' scheduled at {meeting.Start}\")\n",
    "                        try:\n",
    "                            playsound(RINGTONE_FILE)\n",
    "                            notified.add(meeting_id)\n",
    "                        except Exception as e:\n",
    "                            logging.error(\"Error playing sound: \" + str(e))\n",
    "            else:\n",
    "                logging.info(\"Teams is not running; skipping notification.\")\n",
    "        else:\n",
    "            logging.debug(\"No upcoming meetings detected.\")\n",
    "        time.sleep(CHECK_INTERVAL)"
   ]
  },
  {
   "cell_type": "code",
   "execution_count": 7,
   "id": "351810bd",
   "metadata": {},
   "outputs": [
    {
     "name": "stderr",
     "output_type": "stream",
     "text": [
      "2025-04-10 15:30:39,254 - INFO - Starting Teams Meeting Notification Agent...\n"
     ]
    },
    {
     "ename": "KeyboardInterrupt",
     "evalue": "",
     "output_type": "error",
     "traceback": [
      "\u001b[1;31m---------------------------------------------------------------------------\u001b[0m",
      "\u001b[1;31mKeyboardInterrupt\u001b[0m                         Traceback (most recent call last)",
      "Cell \u001b[1;32mIn[7], line 2\u001b[0m\n\u001b[0;32m      1\u001b[0m \u001b[38;5;28;01mif\u001b[39;00m \u001b[38;5;18m__name__\u001b[39m \u001b[38;5;241m==\u001b[39m \u001b[38;5;124m\"\u001b[39m\u001b[38;5;124m__main__\u001b[39m\u001b[38;5;124m\"\u001b[39m:\n\u001b[1;32m----> 2\u001b[0m     \u001b[43mmain_loop\u001b[49m\u001b[43m(\u001b[49m\u001b[43m)\u001b[49m\n",
      "Cell \u001b[1;32mIn[6], line 27\u001b[0m, in \u001b[0;36mmain_loop\u001b[1;34m()\u001b[0m\n\u001b[0;32m     25\u001b[0m \u001b[38;5;28;01melse\u001b[39;00m:\n\u001b[0;32m     26\u001b[0m     logging\u001b[38;5;241m.\u001b[39mdebug(\u001b[38;5;124m\"\u001b[39m\u001b[38;5;124mNo upcoming meetings detected.\u001b[39m\u001b[38;5;124m\"\u001b[39m)\n\u001b[1;32m---> 27\u001b[0m \u001b[43mtime\u001b[49m\u001b[38;5;241;43m.\u001b[39;49m\u001b[43msleep\u001b[49m\u001b[43m(\u001b[49m\u001b[43mCHECK_INTERVAL\u001b[49m\u001b[43m)\u001b[49m\n",
      "\u001b[1;31mKeyboardInterrupt\u001b[0m: "
     ]
    }
   ],
   "source": [
    "if __name__ == \"__main__\":\n",
    "    main_loop()\n"
   ]
  },
  {
   "cell_type": "code",
   "execution_count": 1,
   "id": "bd83c4af",
   "metadata": {},
   "outputs": [],
   "source": [
    "from dateutil import tz\n",
    "\n",
    "local_tz = tz.tzlocal()\n",
    "\n",
    "def to_local(dt):\n",
    "    if dt.tzinfo is None:\n",
    "        return dt.replace(tzinfo=tz.tzutc()).astimezone(local_tz)\n",
    "    else:\n",
    "        return dt.astimezone(local_tz)\n"
   ]
  },
  {
   "cell_type": "code",
   "execution_count": 4,
   "id": "ce9c43bb",
   "metadata": {},
   "outputs": [
    {
     "ename": "NameError",
     "evalue": "name 'now' is not defined",
     "output_type": "error",
     "traceback": [
      "\u001b[1;31m---------------------------------------------------------------------------\u001b[0m",
      "\u001b[1;31mNameError\u001b[0m                                 Traceback (most recent call last)",
      "Cell \u001b[1;32mIn[4], line 1\u001b[0m\n\u001b[1;32m----> 1\u001b[0m start \u001b[38;5;241m=\u001b[39m to_local(\u001b[43mnow\u001b[49m)\n",
      "\u001b[1;31mNameError\u001b[0m: name 'now' is not defined"
     ]
    }
   ],
   "source": [
    "start = to_local(now)\n"
   ]
  },
  {
   "cell_type": "code",
   "execution_count": 3,
   "id": "898f6d1f",
   "metadata": {},
   "outputs": [],
   "source": [
    "\n",
    "from playsound import playsound"
   ]
  },
  {
   "cell_type": "code",
   "execution_count": 6,
   "id": "c660ac8c",
   "metadata": {},
   "outputs": [],
   "source": [
    "playsound(\"ring1.wav\")"
   ]
  },
  {
   "cell_type": "code",
   "execution_count": null,
   "id": "4b520122",
   "metadata": {},
   "outputs": [],
   "source": []
  }
 ],
 "metadata": {
  "kernelspec": {
   "display_name": "teams_agent",
   "language": "python",
   "name": "python3"
  },
  "language_info": {
   "codemirror_mode": {
    "name": "ipython",
    "version": 3
   },
   "file_extension": ".py",
   "mimetype": "text/x-python",
   "name": "python",
   "nbconvert_exporter": "python",
   "pygments_lexer": "ipython3",
   "version": "3.9.21"
  }
 },
 "nbformat": 4,
 "nbformat_minor": 5
}
